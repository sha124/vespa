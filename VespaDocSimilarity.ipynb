{
 "cells": [
  {
   "cell_type": "code",
   "execution_count": 1,
   "id": "5fcc6ed4",
   "metadata": {},
   "outputs": [],
   "source": [
    "from vespa.package import ApplicationPackage\n",
    "\n",
    "app_package = ApplicationPackage(name = \"ourData\")"
   ]
  },
  {
   "cell_type": "code",
   "execution_count": 2,
   "id": "44c48405",
   "metadata": {},
   "outputs": [],
   "source": [
    "emb_dim = 384"
   ]
  },
  {
   "cell_type": "code",
   "execution_count": 3,
   "id": "b3b9ceb8",
   "metadata": {},
   "outputs": [],
   "source": [
    "from vespa.package import Field\n",
    "from vespa.package import HNSW\n",
    "\n",
    "\n",
    "app_package.schema.add_fields(        \n",
    "    Field(\n",
    "        name = \"id\", type = \"string\", \n",
    "        indexing = [\"attribute\", \"summary\"]\n",
    "    ),\n",
    "    Field(\n",
    "        name = \"content\", type = \"string\", \n",
    "        indexing = [\"index\", \"summary\"], \n",
    "        index = \"enable-bm25\"\n",
    "    ),\n",
    "    Field(\n",
    "        name = \"content_bert\", type = \"tensor<float>(x[{}])\".format(emb_dim), \n",
    "        indexing = [\"attribute\", \"index\"],\n",
    "        ann=HNSW(\n",
    "            distance_metric=\"angular\",\n",
    "            max_links_per_node=16,\n",
    "            neighbors_to_explore_at_insert=500,\n",
    "        )\n",
    "    )        \n",
    ")"
   ]
  },
  {
   "cell_type": "code",
   "execution_count": 4,
   "id": "d9e6d9ad",
   "metadata": {},
   "outputs": [],
   "source": [
    "from vespa.package import QueryTypeField\n",
    "\n",
    "app_package.query_profile_type.add_fields(        \n",
    "    QueryTypeField(\n",
    "        name=\"ranking.features.query(content_bert)\",\n",
    "        type=\"tensor<float>(x[{}])\".format(emb_dim)\n",
    "    )\n",
    ")"
   ]
  },
  {
   "cell_type": "code",
   "execution_count": 5,
   "id": "2f124c74",
   "metadata": {},
   "outputs": [],
   "source": [
    "from vespa.package import RankProfile\n",
    "\n",
    "\n",
    "app_package.schema.add_rank_profile(\n",
    "    RankProfile(\n",
    "        name = \"bert_content\", \n",
    "        first_phase = \"sum(query(content_bert)*attribute(content_bert))\"\n",
    "    )\n",
    ")"
   ]
  },
  {
   "cell_type": "code",
   "execution_count": 6,
   "id": "c8ea8b63",
   "metadata": {},
   "outputs": [
    {
     "name": "stdout",
     "output_type": "stream",
     "text": [
      "Waiting for configuration server, 0/300 seconds...\n",
      "Waiting for configuration server, 5/300 seconds...\n",
      "Waiting for configuration server, 10/300 seconds...\n",
      "Waiting for application status, 0/300 seconds...\n",
      "Waiting for application status, 5/300 seconds...\n",
      "Waiting for application status, 10/300 seconds...\n",
      "Waiting for application status, 15/300 seconds...\n",
      "Waiting for application status, 20/300 seconds...\n",
      "Waiting for application status, 25/300 seconds...\n",
      "Finished deployment.\n"
     ]
    }
   ],
   "source": [
    "from vespa.deployment import VespaDocker\n",
    "\n",
    "vespa_docker = VespaDocker(port=8089)\n",
    "\n",
    "app = vespa_docker.deploy(\n",
    "    application_package = app_package,\n",
    ")"
   ]
  },
  {
   "cell_type": "code",
   "execution_count": 7,
   "id": "aed40536",
   "metadata": {},
   "outputs": [],
   "source": [
    "from sentence_transformers import SentenceTransformer\n",
    "\n",
    "bert_model = SentenceTransformer(\"paraphrase-multilingual-MiniLM-L12-v2\")"
   ]
  },
  {
   "cell_type": "code",
   "execution_count": 8,
   "id": "f82fabf6",
   "metadata": {},
   "outputs": [],
   "source": [
    "import numpy as np\n",
    "\n",
    "def normalized_bert_encoder(text):\n",
    "    vector = bert_model.encode([text])[0].tolist()\n",
    "    norm = np.linalg.norm(vector)\n",
    "    if norm > 0.0:\n",
    "        vector = vector / norm\n",
    "    return vector.tolist()"
   ]
  },
  {
   "cell_type": "code",
   "execution_count": 9,
   "id": "4647bd63",
   "metadata": {},
   "outputs": [
    {
     "data": {
      "text/plain": [
       "(400, 2)"
      ]
     },
     "execution_count": 9,
     "metadata": {},
     "output_type": "execute_result"
    }
   ],
   "source": [
    "from pandas import read_csv\n",
    "\n",
    "docs = read_csv(\"test1.csv\")\n",
    "docs = docs[100:500]\n",
    "docs.shape"
   ]
  },
  {
   "cell_type": "code",
   "execution_count": 10,
   "id": "8ea7420d",
   "metadata": {},
   "outputs": [
    {
     "data": {
      "text/plain": [
       "(400, 3)"
      ]
     },
     "execution_count": 10,
     "metadata": {},
     "output_type": "execute_result"
    }
   ],
   "source": [
    "ids = [i for i in range(docs.shape[0])]\n",
    "docs['id'] = ids\n",
    "docs.shape"
   ]
  },
  {
   "cell_type": "code",
   "execution_count": 11,
   "id": "2faf1db7",
   "metadata": {},
   "outputs": [
    {
     "data": {
      "text/html": [
       "<div>\n",
       "<style scoped>\n",
       "    .dataframe tbody tr th:only-of-type {\n",
       "        vertical-align: middle;\n",
       "    }\n",
       "\n",
       "    .dataframe tbody tr th {\n",
       "        vertical-align: top;\n",
       "    }\n",
       "\n",
       "    .dataframe thead th {\n",
       "        text-align: right;\n",
       "    }\n",
       "</style>\n",
       "<table border=\"1\" class=\"dataframe\">\n",
       "  <thead>\n",
       "    <tr style=\"text-align: right;\">\n",
       "      <th></th>\n",
       "      <th>Unnamed: 0</th>\n",
       "      <th>content</th>\n",
       "      <th>id</th>\n",
       "    </tr>\n",
       "  </thead>\n",
       "  <tbody>\n",
       "    <tr>\n",
       "      <th>100</th>\n",
       "      <td>100</td>\n",
       "      <td>\" Team of six\" Our lean âTeam of sixâ appr...</td>\n",
       "      <td>0</td>\n",
       "    </tr>\n",
       "    <tr>\n",
       "      <th>101</th>\n",
       "      <td>101</td>\n",
       "      <td>\" The Reckoning demonstrates how financial tra...</td>\n",
       "      <td>1</td>\n",
       "    </tr>\n",
       "  </tbody>\n",
       "</table>\n",
       "</div>"
      ],
      "text/plain": [
       "     Unnamed: 0                                            content  id\n",
       "100         100  \" Team of six\" Our lean âTeam of sixâ appr...   0\n",
       "101         101  \" The Reckoning demonstrates how financial tra...   1"
      ]
     },
     "execution_count": 11,
     "metadata": {},
     "output_type": "execute_result"
    }
   ],
   "source": [
    "docs.head(2)"
   ]
  },
  {
   "cell_type": "code",
   "execution_count": 12,
   "id": "9ee86b9c",
   "metadata": {},
   "outputs": [],
   "source": [
    "for idx, row in docs.iterrows():\n",
    "    response = app.feed_data_point(\n",
    "        schema = \"ourData\",\n",
    "        data_id = row[\"id\"],\n",
    "        fields = {\n",
    "            \"id\": row[\"id\"],\n",
    "            \"content\": row[\"content\"],\n",
    "            \"content_bert\": {\"values\": normalized_bert_encoder(row[\"content\"])}\n",
    "        }\n",
    "    )"
   ]
  },
  {
   "cell_type": "code",
   "execution_count": 13,
   "id": "f9f883b7",
   "metadata": {},
   "outputs": [],
   "source": [
    "from vespa.query import QueryModel, QueryRankingFeature, Union, WeakAnd, ANN, RankProfile\n",
    "\n",
    "query_model = QueryModel(\n",
    "    query_properties=[QueryRankingFeature(name=\"content_bert\", mapping=normalized_bert_encoder)],\n",
    "    match_phase=Union(\n",
    "        WeakAnd(field=\"content\", hits=10), \n",
    "        ANN(\n",
    "            doc_vector=\"content_bert\", \n",
    "            query_vector=\"content_bert\", \n",
    "            hits=10, \n",
    "            label=\"ann_content\"\n",
    "        )\n",
    "    ),\n",
    "    rank_profile=RankProfile(name=\"bert_content\")\n",
    ")"
   ]
  },
  {
   "cell_type": "code",
   "execution_count": 14,
   "id": "7c6f387d",
   "metadata": {},
   "outputs": [],
   "source": [
    "query_results = app.query(query=\"Team of six\", query_model=query_model, debug_request=False)"
   ]
  },
  {
   "cell_type": "code",
   "execution_count": 15,
   "id": "634a8db9",
   "metadata": {},
   "outputs": [
    {
     "data": {
      "text/plain": [
       "[{'id': 'id:ourData:ourData::0',\n",
       "  'relevance': 0.5045033693313599,\n",
       "  'source': 'ourData_content',\n",
       "  'fields': {'sddocname': 'ourData',\n",
       "   'documentid': 'id:ourData:ourData::0',\n",
       "   'id': '0',\n",
       "   'content': '\" Team of six\" Our lean â\\x80\\x9cTeam of sixâ\\x80\\x9d approach to conversion projects has also proved its worth. The principle is to put together a team with an expert from each of six domains: project management, core, development, finance/controlling, business partner/logistics and â\\x80\\x9cmiscellaneousâ\\x80\\x9d modules. Other experts, e.g. for interfaces, BI, permissions or forms, can be brought in as needed. The small core team is able to work with low resource requirements and efficient pathways. The result is top-quality projects in a short timeframe. Opportunity for further business optimization We also have competence in the fields of Managed Services, Analytics and HR, and can weave these themes into your project in the form of IT architecture, BI strategy, digitalizing HR systems, etc. Another choice many customers make is to take this opportunity to outsource operation and maintenance of their new SAP S/4HANA system in our S/4-certified data center.'}},\n",
       " {'id': 'id:ourData:ourData::27',\n",
       "  'relevance': 0.3610354959964752,\n",
       "  'source': 'ourData_content',\n",
       "  'fields': {'sddocname': 'ourData',\n",
       "   'documentid': 'id:ourData:ourData::27',\n",
       "   'id': '27',\n",
       "   'content': '\"...a unique insight into improving team productivity by capitalizing on individual needs, talents, and behaviors.\" -- SUSAN NASH, Author Turning Team Performance Inside Out: Team Types and Temperament for High-Impact Results \"...promises to stimulate and improve workplace communication with integrity.This is the model to reach the highest success for companies!\" -- DEBORAH SANTANA, COO, Santana Band, VP, Milagro Foundation, Author, Space Between the Stars \"...will allow meeting participants to embrace the diversity of thought necessary to determine the best course of action.\" -- DAVID SPECHT, Author Lessons from the Window Seat: Achieving Shared Vision in the Workplace, President, Performance Point \"All managers who are going to lead a team through a cultural remodeling project ought to have this book.\" -- HENRY MARTINEZ, Vice President Engineering, Vision Solutions, Inc. \"a fabulous tool for managers trying to help groups who want to accomplish more working together than they can apart.\" -- PATRICK LENCIONI, Author, The Five Dysfunctions of a Team, President, The Table Group Susan Gerke is the president of Gerke Consulting & Development and â\\x80\\x9chelps people work better, together.â\\x80\\x9d Susan has been in business since 1998 following twenty-one years working for IBM. She was a manager for IBM as well as a technical support representative and a management and leadership development professional. Susanâ\\x80\\x99s focus since 1989 has been in designing, customizing and implementing leadership and teamwork programs, meeting the needs of executives, managers, and employees in a wide number of companies and industries. She has applied her skill and knowledge in facilitation, consulting, curriculum development, and coaching. Susan has developed and delivered experiential programs in a number of areas including remote work, managing conflict, teams and teamwork, leadership, mentoring, and facilitation skills. Susan is a specialist in instruments and is certified for SYMLOG, Herrmann Brain DominanceÂ® (HBDI), Element B, the Myers-Briggs Type IndicatorÂ® (MBTIÂ®) and the Management Team Roles Indicatorâ\\x84¢ (MTR-iÂ®). She is on the faculty of TRI and is InterStrengthâ\\x84¢ certified. Susan has a bachelorâ\\x80\\x99s degree in statistics from California Polytechnic State University, San Luis Obispo. She is a graduate of the University Associates Human Resources and Organizational Development Intern program. Linda V. Berens is the founder and Director of TRI (formerly Temperament Research Institute), a corporate consulting and training organization. TRI is one of seven organizations in the United States that qualifies professionals to administer the Myers-Briggs Type IndicatorÂ® instrument. TRI also certifies professionals in the Interstrengthâ\\x84¢ assessments and method, the Ideal Team Profile Questionnaireâ\\x84¢ (ITPQâ\\x84¢) and the Management Team Role-indicatorÂ® (MTR-iÂ®). Linda holds a doctorate in psychology and serves as an adjunct faculty member in the Masters in Organizational Leadership program at Chapman University. She is the author of Understanding Yourself and OthersÂ®: An Introduction to Temperament; Understanding Yourself and OthersÂ®: An Introduction to Interaction Styles; and Dynamics of Personality Type: Understanding and Applying Jungâ\\x80\\x99s Cognitive Processes and the coauthor of The 16 Personality Types: Descriptions for Self-Discovery; Understanding Yourself and OthersÂ®: An Introduction to the Personality Type Code; Quick Guide to the 16 Personality Types and Teams; Groundbreaking SalesÂ® Skills; Working Together: A Personality-Centered Approach to Management and other books and training materials. Linda is an organizational consultant and has spent over thirty years training professionals in the field as well as helping individuals and teams recognize their strengths, transcend their weaknesses, and work together better. Linda is recognized internationally for her contributions to the field of psychological type theory and for developing user-friendly training materials for practical application of understanding individual differences. Both Linda and Susan are available to work with your organization on the subject of teams and temperament. Linda specializes in whole-organization implementation as well as individual and team development. Susan specializes in helping organizations, teams, and individuals with remote work, leadership, and team development.'}},\n",
       " {'id': 'id:ourData:ourData::274',\n",
       "  'relevance': 0.2841687500476837,\n",
       "  'source': 'ourData_content',\n",
       "  'fields': {'sddocname': 'ourData',\n",
       "   'documentid': 'id:ourData:ourData::274',\n",
       "   'id': '274',\n",
       "   'content': '\"Five or ten years from now, we\\'re not going to be producing the same products we are today,\" says Mary Isbister. \"Manufacturers must be innovative in finding new ways to add value and create products that are not easily replicated by low-wage overseas competitors.â\\x80\\x9d One Team, One Goal The workshop, titled One Team, One Goal, addressed how companies could use ISO 9001 to increase revenue and capacity while creating a strong team, thus improving overall operations. Making Stuff is Cool We welcome you to join us and share the experience of watching students light up when they see the practical applications of what they are learning in math and science class. You too will see that making stuff is cool! GenMet is dedicated to following lean manufacturing practices to reduce waste and improve overall customer value. GenMet employees are continuously trained on lean manufacturing principles which play a critical part in maximizing efficiency and productivity. more> We look forward to working with you to meet your fabricating and manufacturing needs with superior safety, quality and on-time delivery. more > GenMetâ\\x80\\x99s ventilated enclosures were designed with power components such as reactors and capacitors in mind. Each enclosure can serve either NemaType1 indoor or Type 3R outdoor applications. more > Superior Safety, Quality and On Time Delivery Supported By Employee Led Continuous Improvement and State of The Art Technology Resulting in Profitable, Long Term Relationships.'}},\n",
       " {'id': 'id:ourData:ourData::339',\n",
       "  'relevance': 0.2595807909965515,\n",
       "  'source': 'ourData_content',\n",
       "  'fields': {'sddocname': 'ourData',\n",
       "   'documentid': 'id:ourData:ourData::339',\n",
       "   'id': '339',\n",
       "   'content': '\"I have used Flevy services for a number of years and have never, ever been disappointed. As a matter of fact, David and his team continue, time after time, to impress me with their willingness to assist and in the real sense of the word. I have concluded in fact that it is not at all just a repository of documents/resources but, in the way that David and his team manage the firm, it is like dealing with consultants always ready to assist, advise and direct you to what you really need, and they always get it right. I am an international hospitality accomplished senior executive who has worked and lived during the past 35 years in 23 countries in 5 continents and I can humbly say that I know what customer service is, trust me. Aside from the great and professional service that Flevy\\'s team provide, their wide variety of material is of utmost great quality, professionally put together and most current. Well done Flevy, keep up the great work and I look forward to continue working with you in the future and to recommend you to a variety of colleagues around the world.\" â\\x80\\x93 Roberto Pelliccia, Senior Executive in International Hospitality'}},\n",
       " {'id': 'id:ourData:ourData::340',\n",
       "  'relevance': 0.2595807909965515,\n",
       "  'source': 'ourData_content',\n",
       "  'fields': {'sddocname': 'ourData',\n",
       "   'documentid': 'id:ourData:ourData::340',\n",
       "   'id': '340',\n",
       "   'content': '\"I have used Flevy services for a number of years and have never, ever been disappointed. As a matter of fact, David and his team continue, time after time, to impress me with their willingness to assist and in the real sense of the word. I have concluded in fact that it is not at all just a repository of documents/resources but, in the way that David and his team manage the firm, it is like dealing with consultants always ready to assist, advise and direct you to what you really need, and they always get it right. I am an international hospitality accomplished senior executive who has worked and lived during the past 35 years in 23 countries in 5 continents and I can humbly say that I know what customer service is, trust me. Aside from the great and professional service that Flevy\\'s team provide, their wide variety of material is of utmost great quality, professionally put together and most current. Well done Flevy, keep up the great work and I look forward to continue working with you in the future and to recommend you to a variety of colleagues around the world.\" â\\x80\\x93 Roberto Pelliccia, Senior Executive in International Hospitality'}},\n",
       " {'id': 'id:ourData:ourData::341',\n",
       "  'relevance': 0.2595807909965515,\n",
       "  'source': 'ourData_content',\n",
       "  'fields': {'sddocname': 'ourData',\n",
       "   'documentid': 'id:ourData:ourData::341',\n",
       "   'id': '341',\n",
       "   'content': '\"I have used Flevy services for a number of years and have never, ever been disappointed. As a matter of fact, David and his team continue, time after time, to impress me with their willingness to assist and in the real sense of the word. I have concluded in fact that it is not at all just a repository of documents/resources but, in the way that David and his team manage the firm, it is like dealing with consultants always ready to assist, advise and direct you to what you really need, and they always get it right. I am an international hospitality accomplished senior executive who has worked and lived during the past 35 years in 23 countries in 5 continents and I can humbly say that I know what customer service is, trust me. Aside from the great and professional service that Flevy\\'s team provide, their wide variety of material is of utmost great quality, professionally put together and most current. Well done Flevy, keep up the great work and I look forward to continue working with you in the future and to recommend you to a variety of colleagues around the world.\" – Roberto Pelliccia, Senior Executive in International Hospitality'}},\n",
       " {'id': 'id:ourData:ourData::363',\n",
       "  'relevance': 0.24409669637680054,\n",
       "  'source': 'ourData_content',\n",
       "  'fields': {'sddocname': 'ourData',\n",
       "   'documentid': 'id:ourData:ourData::363',\n",
       "   'id': '363',\n",
       "   'content': '\"I was very impressed with the level of detail that went into our valuation and projections.\" “The team lead was thorough, organized, and professional, so she was a breeze to work with.” SmallBox is a creative agency focused on building cohesive brand experiences for mission-driven organizations. Our human-centered approach and passion for community impact helps us create relevant... \"Rob and his team are very professional and really care about their clients.\" \"They came up with ideas that we hadn’t thought of, to resolve some of our growing pains and internal streamlining...\" Walker is a consulting firm specializing in B-to-B customer experiences. Helping businesses for 75 years, Walker’s diverse team of consultants provides tailored, comprehensive solutions to help... SCORE, the nation’s largest network of free, expert business mentors, is a nonprofit association dedicated to entrepreneur education and the formation, growth and success of small business nationwide... Wilcox & Associates is a Sandler Franchise based in Northern Indiana. Our focus is on Sales Training, Customer Service Training, Management Training, and Professional Development Training. We... An independent accounting and advisory firm with more than 450 people in 10 offices across Indiana, Ohio, and Kentucky. With nearly 50 years of experience, our public accounting expertise includes... FirstPerson is an Indianapolis-based benefits and compensation advisory firm. At FirstPerson, we believe a strong partnership begins with discovering and understanding an organization’s unique... Stay Metrics uses data to help trucking companies to combat high turnover rates and keep their best drivers, helps motor carriers realize Retention. Not Regrets. Its industry-leading retention... We are a marketing agency that starts with who you are and what you stand for. Then, we create and implement strategies to build exposure, engagement and revenue to drive your business forward. Why are we called The Basement? Though the agency actually started in one, for us, it’s more about what the basement represents as a “maker place.” Alexander Graham Bell inventing in his den. You get... DSS Consulting, Inc., develops business-critical software systems for your organization. We start with your core business requirements, and then apply a rigorous, project-oriented approach, combined... EarthCon Consultants, Inc. offers environmental consulting & engineering services. In 1998, our founder, Earl Scott, recognized a need for a new type of environmental consultant – one that... Firm founded in 1943 by Howard Nyhart. Ownership has transitioned from the family to a 100% employee owned (ESOP) firm. Nyhart is a national actuarial and retirement firm with... Castle Wealth Advisors, LLC pulls together the services of our three separate companies in order to provide tax and financial management decisions tailored to each specific family. Each of our... PQC is an award-winning professional services firm with an impressive track record of public and private sector contracts. Our Service Offerings include Project Management, Acquisition Management,... Our mission is to empower talent to build better communities. We recruit recent graduates and employ them as enFocus Fellows for one year to address community challenges and spark innovation in the... As a woman-owned firm specializing in management consulting, enterprise IT, and financial management solutions, we are at the cutting-edge of service offerings for government and commercial markets.... INVANTI helps aspiring entrepreneurs navigate the most important part of entrepreneurship: finding the right problem to solve. We believe that great impact entrepreneurs are problem finders before... SESCO’s mission is to provide strategic support and environmental services that are high-quality, cost-effective, and scientifically sound for our clients. Our philosophy enables our clients to... We provide management and support solutions that integrate with business operations to fill in the gaps and achieve growth through: cost reduction strategies, process management improvement and... BCA Environmental Consultants is a broad-based environmental consulting firm with a reputation for giving clients high quality environmental consulting services. BCA’s reputation as a leader in the... Baker Healthcare Consulting, Inc., (BHC) is a firm specializing in Medicare payment strategies, especially wage index and Medicare geographic reclassification matters. Additionally the firm has had... Pile CPAs is a progressive public accounting firm that delivers business-savvy solutions to privately held, Indiana-based companies, not-for-profit organizations, and high net worth individuals. We... Bridging strategy and results by combining business acumen with state of the art data analytics. Our clients are executives who want more visibility into their business, are open to new solutions,... Patton & Associates, LLC is managed by Troy C. Patton, CPA/ABV. Our firm is one of the leading firms in the US providing business valuation services. By combining our expertise, experience and... Davis & Sarbinoff : P. Adam Davis Business Attorney and Franchise Attorne Davis & Sarbinoff is a full-service business law firm with a primary focus is to act as advisers to our business clients in all substantive areas of our practice. Our attorneys are equipped to... Trident Environmental has an experienced staff of environmental scientists, biologists, geologists, engineers, Licensed Site Remediation Professionals, GIS professionals, planners and landscape... We Help Our Clients improve or completely rewrite their current sales by adopting the most efficient & lucrative systems Yes, we are the Sales Expert! With our professional approach, we assure... John Pinter Consulting provides training, strategic planning, marketing, and development assistance to small businesses and non-profit organizations. The organization also provides emergency and... We use a three-tier system of business owner priorities. It is a coordinated, integrated and verifiable model for managing owner financial priorities. And we can start our process in any Tier... eimagine is a business and technology consulting partner that can improve the way your company does business. Our passion is helping our clients to refine, enhance, and automate their business. We... Engaging Solutions is a multi-faceted management consulting firm with the personnel and resources to accomplish everything from high-level management and auditing to ground-level implementation. We... MML has served the Michiana area since 1956. We provide tax, accounting, consulting and computer software services to individuals and small to mid-size businesses. At MML, we take pride in our... We organize and deliver turnkey speaking events that feature our business improvement experts. Attendees see your firm as the sponsor, which builds trust in your brand. And since this is event... Veracity Technologies LLC is currently headquartered in southern Indiana. Founded with the mission to leverage internet technologies to help small business owners reach their potential. We specialize... Project Brilliant, LLC is an Agile consulting firm based in Indianapolis, IN. We focus on Agile Training, Coaching, and Transformation for medium and large size enterprises through training,... DNA is a boutique staffing company located in the Indianapolis area that specializes in placing professionals on a temporary, contract-to-hire, consulting, project or direct hire basis. ... Christine A. Lauber provides a range of consulting and management services intended to help small business owners and entrepreneurs succeed. With her extensive financial management background,... We take a team approach when we work with our clients, having access to our full spectrum of diverse talent and expertise. We share a consulting approach rooted in curiosity, ask questions and... Founded in 2000 we have achieved steady growth in a variety of industries. Our major Strategic Business Unit offering are organized into Consulting, Information Technology and Software Services,... Prior to our service at KBIC Consulting, the majority of our consultants held positions in sales, underwriting, account management, sales management, human resources, accounting, and risk management... Blue Beyond helps leaders and teams succeed. We are people-side-of-business generalists who are experts in the “soft stuff” that is so often the hard stuff—leadership, communication, change, culture... Noble Consulting Services, Inc. is a leading national regulatory consulting firm. Providing a full range of consulting services both on a turn-key and service-for-hire basis. Katz, Sapper & Miller (KSM) is an employee-owned public accounting firm headquartered in Indianapolis, Indiana. The firm provides clients of all sizes in every industry with a wide array of... Dauby O’Connor & Zaleski, LLC (DOZ) was established in 1987 to provide accounting and auditing, tax, and consulting services to investors, sponsors, owners, developers, and managers of affordable... Based on your budget, timeline, and specifications Clutch can connect you directly with companies that match your project needs. '}},\n",
       " {'id': 'id:ourData:ourData::313',\n",
       "  'relevance': 0.24391208589076996,\n",
       "  'source': 'ourData_content',\n",
       "  'fields': {'sddocname': 'ourData',\n",
       "   'documentid': 'id:ourData:ourData::313',\n",
       "   'id': '313',\n",
       "   'content': '\"Having worked with them in the past, it was nice to see that their dedication to customer service was still top-notch.\" \" We have been challenged throughout the process and it\\'s all paying off towards the end.\" “I would not hesitate to hire them again, both from engineering and quality standpoints.” \"Their project management has been responsive and the team has been on top of all the details.\" \"We’ve never been able to match the talent we get at Itransition anywhere else in the world.\" \"There are many development firms that will just build what you ask them to, but Frogslayer is genuinely a partner.\" \"I\\'m impressed by their ability to scale and bring high-quality individuals into development processes and teams.\" \"We can’t tell the difference between the Ready4S developers and our internal people. They’re 100% a part of our team.\" \"Their expertise, availability, and professionalism were most impressive.\" \"Mojo has always been able to deliver on the project level estimations for all of our engagements.\" “8base Labs has grown alongside us in terms of project management and smoothing things out on their own.” \"Their communication and project management style in our project was one of the main reasons why we chose…\" \"As a result of its quality, we’re able to build on their work in our subsequent efforts.\" \"Without Octobot, we wouldn’t be able to develop the product that we want. They’re crucial for our business.\" \"I was most impressed with Woodridge\\'s ability to adapt and find great talent.\" \"3XM Group swears by a thorough and productive vetting process that allows them to screen the best candidates.\" \"They were able to successfully development our first app integration and keep it on budget!!\" \"They’re flexible and responsive, and they jump into the work right away.\" \"The best thing about Brainhub was their openness to extend one of the two people for two more months on short notice.\" \"They offer thoughtful solutions solutions, good quality and are always interested in feedback.\" “Our CTO has reviewed some of the code, and she is very confident in the quality of their work.” Based on your budget, timeline, and specifications Clutch can connect you directly with companies that match your project needs. '}},\n",
       " {'id': 'id:ourData:ourData::72',\n",
       "  'relevance': 0.23926323652267456,\n",
       "  'source': 'ourData_content',\n",
       "  'fields': {'sddocname': 'ourData',\n",
       "   'documentid': 'id:ourData:ourData::72',\n",
       "   'id': '72',\n",
       "   'content': '\"After 1.5 years with Kallidus Learn, I\\'ve become a fan of their help desk team. They respond promptly, again even with the time difference between Europe and Southern California. I\\'ve never had to escalate a problem. And they have never made me feel like my question wasn\\'t the most important thing they were dealing with that day.\" Mary L. Phillips L&D Support Manager'}},\n",
       " {'id': 'id:ourData:ourData::86',\n",
       "  'relevance': 0.23655295372009277,\n",
       "  'source': 'ourData_content',\n",
       "  'fields': {'sddocname': 'ourData',\n",
       "   'documentid': 'id:ourData:ourData::86',\n",
       "   'id': '86',\n",
       "   'content': '\"An Equal Opportunity Employerâ\\x80\\x9d It is the policy of North American Stamping Group to provide employment, training, promotion, and other conditions of Employment without regard to race, color, religion, national origin, sex, age or status as a qualified individual with a disability or other status protected by law. Job Description Canada Human Resources Manager GENERAL SUMMARY Under general supervision, lead the strategic and tactical activities of people and processes that will provide Human Resources services, direction, and counsel to the Executive Staff, management, and associates of Canada manufacturing facilities. ESSENTIAL JOB FUNCTIONS A. Collaborates with U.S./Canada/Mexico based business leadership to translate current and future business goals and develops initiatives and tactics to meet business objectives in alignment with overall human resources strategies and processes. Partners with NASG U.S./Canada/Mexico Group Company Operations Manager(s) and/or General Manager in the planning and implementation of human resources initiatives for the facility. Lead and work as a collaborative business partner with corporate and plant management along with Finance to manage all labor cost and head count to profit plan targets. B. Develop and define appropriate policies, procedures, practices, and programs for effective management of the people resources. Included in this area, but not limited to the following would be policies and programs for associate relations, associate handbook, wage and salary structure, pay policies, performance appraisal programs, sexual harassment, associate benefit programs and services, associate communications, associate involvement and recognition. Manages enforcement and administration to ensure fairness and consistency. Leads a broad range of human resources processes and is responsible for overall operational effectiveness and compliance with company policies and applicable legislation. C. Enhance and/or develop, implement, and enforce human resources policies and procedures of the organization by way of systems that will improve overall operation, effectiveness, and cost containment. Establish and maintain the HRIS, HR KPI/Measurement systems, and reports for critical analysis of the HR function and the people resources of the corporation. Measures and analyzes key performance indicators and compensation and benefit programs to deliver functional and business performance improvements and labor cost optimization related to human resource investments. D. Determines and recommends associate relations practices necessary to establish a positive employer-associate relationship, promote a high level of associate morale, and maintain union-free status. Protects interests of associates and the company in accordance with company Human Resources policies and governmental laws and regulations. Promotes high morale though associate involvement, incentive programs, and communications. E. Coordinate collaboration with NASG group companies to ensure positive associate relations and good management practices on a U.S./Canada/Mexico basis. Support development of strategy, coordinate advice and support on general human resource issues, and coordinate implementation of human resource activities, policies, and programs including assistance for HR day-to-day operations. Works directly with department managers to assist them in carrying out their responsibilities on personnel matters. Establish credibility throughout the organization with management and the associates in order to be an effective listener and problem solver of people issues. Directs subordinate staff as associate advocates and HR representatives in support of all departments and in concert with human resource goals. Resolves conflicts and provides coaching and counseling on human resources matters for functional or organizational leadership. F. Responsible for managing and coordinating NASG Canada and the Tech Center Group Company HR acquisition and placement activities including staffing strategy, planning, hiring, EEO, and employment practices for both hourly and salaried employment. Establishes strategies with business leaders to select and retain the diverse talent required to maintain a competitive advantage and to align with recruiting strategies. Establish effective workforce planning and resource acquisition/selection, professional employment and recruiting activities, associate promotion, transfer, and progressive planning systems and processes, to achieve efficient resource allocation, flexible staffing, and labor cost optimization. G. Manage the design, development, implementation, and completion of numerous programs, projects, and activities to ensure associates are educated, trained, and developed. Areas of responsibility include associate training and development curriculum, tuition assistance, external training and seminars, management education, skilled trades development programs, performance management, etc. Provides associate development expertise, support systems and processes focused on continuous learning, and knowledge sharing. Maintain positive liaison with educational organizations, associations, and agencies. H. Direct or assist with the management and administration of other Human Resource support functions on a corporate and NASG Canada Group Company level including payroll, organizational development and succession planning, compensation and benefits, job evaluation/descriptions, awards and recognition, company clothing, social activities, and public/community relations. I. Maintain current knowledge and understanding of regulations, industry trends, current practices, new developments, and applicable laws regarding human resources. Identifies legal requirements and government reporting regulations affecting Human Resources function and ensures compliance. Acts as primary contact with labor counsel and outside government agencies for NASG Canada Group Companies. J. Continually assess the competitiveness of all programs and practices against the relevant comparable companies, industries, and markets. Benchmark and gauge competitiveness of policies, compensation, and benefits for the NASG Canada Group Companies through periodic wage and benefit surveys. MINIMUM QUALIFICATIONS/REQUIREMENTS Education: Bachelor\\'s Degree with emphasis in Business Administration, HR Management, or related discipline. Master\\'s degree in related field and/or Professional certification is a plus. Experience: Minimum of 5-7 years in either a generalist role or in a succession of assignments in various HR disciplines. HR management experience with multi-site responsibility in a manufacturing setting preferred. Experience in Automotive Supplier helpful. Experience with talent management, including recruitment, succession planning, and associate development. Demonstrated positive associate relations activities. Experience in interviewing, project management, change management, and conflict management/resolution. Knowledge and Organizational skills necessary to maintain company records in compliance with state and federal guidelines. Knowledge of federal and provincial laws including, but not limited to, the following: ESA, AODA, EEO, OH&S Act, Workers\\' Compensation, Ontario Employment Standards Act, Ontario Human Rights Code, etc. Personal/Technical Skills: General business knowledge. Ability to work in a safe manner. Highly motivated, ambitious self-starter. Proven ability to handle multiple projects. Ability to coach, mentor, and evaluate others. Ability to be constantly alert of your surroundings. Able to think and plan both strategically and tactically. Strong attention to detail, accuracy, and data analysis. Ability to perform responsibilities with minimal supervision. Ability to manage projects done with a limited support staff. Excellent judgment, problem solving skills, and decision making. Able to work effectively and collaboratively in a team environment. Good judgment with the ability to make timely and sound decisions. Strong negotiation and consulting skills, with the ability to influence others. Ability to maintain and safeguard any confidential and proprietary information. Strong customer service orientation with both internal and external customers. Excellent interpersonal skills and a proven history of effective relationship building. Ability to complete assignments from minimal information or under general instructions. Strong interpersonal, communication, and presentation skills. Able to influence executive decisions. Versatility, flexibility, and a willingness to work within constantly changing priorities and processes. Ability to develop and maintain effective working relationships with co-workers, supervisors and others. Ability to communicate on a one-to-one basis and before groups to obtain or provide information. Able to handle multiple tasks simultaneously, meet deadlines, and work in a fast-paced environment. Ability to communicate clearly, concisely, logically, persuasively, and accurately, both verbally and in writing. Strong written communication, administrative, organizational, problem-solving, and analytical skills. Ability to work independently with minimal supervision; self-starter with high drive and a quality results orientation. Ability to effectively communicate and work well with people at all organizational levels and from various backgrounds. Willing to work in a team environment, adapt to the changing needs of the organization, and provide support as workloads fluctuate. Ability to function both independently and with good judgment in a team environment and as a member of various teams and committees. Ability to prioritize and handle multiple tasks simultaneously, work efficiently within time constraints and deadlines and conflicting demands, and handle stressful situations. Willingness and ability to collaborate with internal customers and other functional groups to provide optimal solutions while complying with regulatory and corporate guidelines. Language Skills: Must be able to speak, read, write, and understand the primary language (English) used in the workplace. Ability to effectively present information to top management, public groups and or boards of directors. Computer/Software: Solid working knowledge and experience with Microsoft Office and other computer-based applications (e.g., MS Word, MS Excel, MS PowerPoint, MS Outlook, Internet, etc.). Working knowledge and experience with implementation and administration of HRIS. Training: New Hire Orientation Environmental, Health, & Safety Introduction to Lean Associate Involvement Workplace Organization â\\x80\\x93 5S Total Productive Maintenance (TPM) WORK ENVIRONMENT/CONDITIONS Office: Open Office Environment Plant: Various types of manufacturing environments. Standard automotive plant environment with moderate noise level. PPE (Personal Protective Equipment) such as safety glasses, steel toe shoes, Kevlar sleeves, hearing protection, etc. may be required in designated engineering, manufacturing, or industrial areas. Personal attire standards may apply. Involves moderate or occasional presence of some slightly disagreeable conditions, i.e., cold, dust, heat, odor, etc. Travel: Must be willing to travel up to 10% of the time. PHYSICAL REQUIREMENTS The physical demands described here are representative of those that must be met by an associate to successfully perform the essential functions of this job. Reasonable accommodations may be made to enable individuals with disabilities to perform the essential functions. Although the primary job functions involve the ability to sit and work on a computer and in an office situation for extensive periods of time, the associate must be capable of walking, sitting, and standing for extended periods of time. The associate is frequently required to walk; reach with hands and arms; and talk, see, and hear. The associate is occasionally required to climb or balance and stoop, kneel, crouch, or crawl. The associate must frequently lift and /or move up to 10 pounds, occasionally lift and/or move up to 25 pounds and infrequently lift and/or move up to 50 pounds. Specific vision abilities required by this job include close vision, distance vision, peripheral vision, depth perception and ability to adjust focus. DISCLAIMER This job description is intended to identify the general nature and level of work performed by associates within this classification, as well as certain essential job functions. It is not intended, and should not be interpreted, as a comprehensive inventory of all duties, responsibilities, and qualifications required of associates assigned to this job. Duties, responsibilities and activities may change at any time with or without notice, based on operational needs. To qualify for this job, however, an associate must be able to perform its essential functions with or without reasonable accommodation. Under no circumstances may this job description be construed as altering the at-will nature of the employment relationship between NASG and any associate. EOE/M/F/D/V North American Stamping Group is a drug-free and smoke-free workplace.'}}]"
      ]
     },
     "execution_count": 15,
     "metadata": {},
     "output_type": "execute_result"
    }
   ],
   "source": [
    "query_results.hits"
   ]
  },
  {
   "cell_type": "code",
   "execution_count": 16,
   "id": "a4f1d1e7",
   "metadata": {},
   "outputs": [],
   "source": [
    "query_str = docs[:1].content.to_string()[7:]"
   ]
  },
  {
   "cell_type": "code",
   "execution_count": 17,
   "id": "f27eb7b5",
   "metadata": {},
   "outputs": [
    {
     "data": {
      "text/plain": [
       "str"
      ]
     },
     "execution_count": 17,
     "metadata": {},
     "output_type": "execute_result"
    }
   ],
   "source": [
    "type(query_str)"
   ]
  },
  {
   "cell_type": "code",
   "execution_count": 18,
   "id": "fb8f754a",
   "metadata": {},
   "outputs": [
    {
     "data": {
      "text/plain": [
       "'\" Team of six\" Our lean â\\x80\\x9cTeam of sixâ\\x80\\x9d appr...'"
      ]
     },
     "execution_count": 18,
     "metadata": {},
     "output_type": "execute_result"
    }
   ],
   "source": [
    "query_str"
   ]
  },
  {
   "cell_type": "code",
   "execution_count": 19,
   "id": "e6af19ff",
   "metadata": {},
   "outputs": [],
   "source": [
    "query_res = app.query(query=query_str, query_model=query_model, debug_request=False)"
   ]
  },
  {
   "cell_type": "code",
   "execution_count": 20,
   "id": "c6a7907b",
   "metadata": {},
   "outputs": [
    {
     "data": {
      "text/plain": [
       "[]"
      ]
     },
     "execution_count": 20,
     "metadata": {},
     "output_type": "execute_result"
    }
   ],
   "source": [
    "query_res.hits"
   ]
  },
  {
   "cell_type": "code",
   "execution_count": 21,
   "id": "6d3a9e59",
   "metadata": {},
   "outputs": [
    {
     "data": {
      "text/plain": [
       "{'root': {'id': 'toplevel',\n",
       "  'relevance': 1.0,\n",
       "  'fields': {'totalCount': 0},\n",
       "  'errors': [{'code': 4,\n",
       "    'summary': 'Invalid query parameter',\n",
       "    'message': 'Could not create query from YQL: query:L1:81 no viable alternative at input \\'([{\"targetNumHits\": 10}]weakAnd(content contains \"\"\", content contains \"\\'',\n",
       "    'stackTrace': 'com.yahoo.processing.IllegalInputException: com.yahoo.search.yql.ProgramCompileException: query:L1:81 no viable alternative at input \\'([{\"targetNumHits\": 10}]weakAnd(content contains \"\"\", content contains \"\\'\\n\\tat com.yahoo.search.yql.YqlParser.parseYqlProgram(YqlParser.java:818)\\n\\tat com.yahoo.search.yql.YqlParser.parse(YqlParser.java:274)\\n\\tat com.yahoo.search.yql.MinimalQueryInserter.insertQuery(MinimalQueryInserter.java:95)\\n\\tat com.yahoo.search.yql.MinimalQueryInserter.search(MinimalQueryInserter.java:80)\\n\\tat com.yahoo.search.Searcher.process(Searcher.java:134)\\n\\tat com.yahoo.processing.execution.Execution.process(Execution.java:112)\\n\\tat com.yahoo.search.searchchain.Execution.search(Execution.java:499)\\n\\tat com.yahoo.prelude.searcher.FieldCollapsingSearcher.search(FieldCollapsingSearcher.java:101)\\n\\tat com.yahoo.search.Searcher.process(Searcher.java:134)\\n\\tat com.yahoo.processing.execution.Execution.process(Execution.java:112)\\n\\tat com.yahoo.search.searchchain.Execution.search(Execution.java:499)\\n\\tat com.yahoo.prelude.querytransform.PhrasingSearcher.search(PhrasingSearcher.java:60)\\n\\tat com.yahoo.search.Searcher.process(Searcher.java:134)\\n\\tat com.yahoo.processing.execution.Execution.process(Execution.java:112)\\n\\tat com.yahoo.search.searchchain.Execution.search(Execution.java:499)\\n\\tat com.yahoo.prelude.statistics.StatisticsSearcher.search(StatisticsSearcher.java:228)\\n\\tat com.yahoo.search.Searcher.process(Searcher.java:134)\\n\\tat com.yahoo.processing.execution.Execution.process(Execution.java:112)\\n\\tat com.yahoo.search.searchchain.Execution.search(Execution.java:499)\\n\\tat com.yahoo.search.querytransform.WeakAndReplacementSearcher.search(WeakAndReplacementSearcher.java:26)\\n\\tat com.yahoo.search.Searcher.process(Searcher.java:134)\\n\\tat com.yahoo.processing.execution.Execution.process(Execution.java:112)\\n\\tat com.yahoo.search.searchchain.Execution.search(Execution.java:499)\\n\\tat com.yahoo.search.handler.SearchHandler.searchAndFill(SearchHandler.java:326)\\n\\tat com.yahoo.search.handler.SearchHandler.search(SearchHandler.java:371)\\n\\tat com.yahoo.search.handler.SearchHandler.handleBody(SearchHandler.java:245)\\n\\tat com.yahoo.search.handler.SearchHandler.handle(SearchHandler.java:157)\\n\\tat com.yahoo.container.jdisc.ThreadedHttpRequestHandler.handle(ThreadedHttpRequestHandler.java:76)\\n\\tat com.yahoo.container.jdisc.ThreadedHttpRequestHandler.handleRequest(ThreadedHttpRequestHandler.java:87)\\n\\tat com.yahoo.container.jdisc.ThreadedRequestHandler$RequestTask.processRequest(ThreadedRequestHandler.java:191)\\n\\tat com.yahoo.container.jdisc.ThreadedRequestHandler$RequestTask.run(ThreadedRequestHandler.java:185)\\n\\tat java.base/java.util.concurrent.ThreadPoolExecutor.runWorker(ThreadPoolExecutor.java:1136)\\n\\tat java.base/java.util.concurrent.ThreadPoolExecutor$Worker.run(ThreadPoolExecutor.java:635)\\n\\tat java.base/java.lang.Thread.run(Thread.java:833)\\nCaused by: com.yahoo.search.yql.ProgramCompileException: query:L1:81 no viable alternative at input \\'([{\"targetNumHits\": 10}]weakAnd(content contains \"\"\", content contains \"\\'\\n\\tat com.yahoo.search.yql.ProgramParser$ErrorListener.syntaxError(ProgramParser.java:98)\\n\\tat org.antlr.v4.runtime.ProxyErrorListener.syntaxError(ProxyErrorListener.java:41)\\n\\tat org.antlr.v4.runtime.Parser.notifyErrorListeners(Parser.java:544)\\n\\tat org.antlr.v4.runtime.DefaultErrorStrategy.reportNoViableAlternative(DefaultErrorStrategy.java:310)\\n\\tat org.antlr.v4.runtime.DefaultErrorStrategy.reportError(DefaultErrorStrategy.java:136)\\n\\tat com.yahoo.search.yql.yqlplusParser.logical_OR_expression(yqlplusParser.java:2709)\\n\\tat com.yahoo.search.yql.yqlplusParser.expression(yqlplusParser.java:2455)\\n\\tat com.yahoo.search.yql.yqlplusParser.where(yqlplusParser.java:2106)\\n\\tat com.yahoo.search.yql.yqlplusParser.select_statement(yqlplusParser.java:879)\\n\\tat com.yahoo.search.yql.yqlplusParser.query_statement(yqlplusParser.java:796)\\n\\tat com.yahoo.search.yql.yqlplusParser.source_statement(yqlplusParser.java:509)\\n\\tat com.yahoo.search.yql.yqlplusParser.output_statement(yqlplusParser.java:444)\\n\\tat com.yahoo.search.yql.yqlplusParser.statement(yqlplusParser.java:396)\\n\\tat com.yahoo.search.yql.yqlplusParser.program(yqlplusParser.java:334)\\n\\tat com.yahoo.search.yql.ProgramParser.parseProgram(ProgramParser.java:118)\\n\\tat com.yahoo.search.yql.ProgramParser.parse(ProgramParser.java:129)\\n\\tat com.yahoo.search.yql.YqlParser.parseYqlProgram(YqlParser.java:816)\\n\\t... 33 more\\n'}]}}"
      ]
     },
     "execution_count": 21,
     "metadata": {},
     "output_type": "execute_result"
    }
   ],
   "source": [
    "query_res.json"
   ]
  },
  {
   "cell_type": "code",
   "execution_count": 22,
   "id": "d48e6f7d",
   "metadata": {},
   "outputs": [],
   "source": [
    "import re\n",
    "\n",
    "query_str = \"\".join(x for x in query_str if x.isalpha() or x.isspace())\n"
   ]
  },
  {
   "cell_type": "code",
   "execution_count": 23,
   "id": "fd2c3481",
   "metadata": {},
   "outputs": [
    {
     "data": {
      "text/plain": [
       "' Team of six Our lean âTeam of sixâ appr'"
      ]
     },
     "execution_count": 23,
     "metadata": {},
     "output_type": "execute_result"
    }
   ],
   "source": [
    "query_str"
   ]
  },
  {
   "cell_type": "code",
   "execution_count": 24,
   "id": "c21c1be7",
   "metadata": {},
   "outputs": [],
   "source": [
    "query_res = app.query(query=query_str, query_model=query_model, debug_request=False)"
   ]
  },
  {
   "cell_type": "code",
   "execution_count": 25,
   "id": "240c6e5d",
   "metadata": {},
   "outputs": [
    {
     "data": {
      "text/plain": [
       "[]"
      ]
     },
     "execution_count": 25,
     "metadata": {},
     "output_type": "execute_result"
    }
   ],
   "source": [
    "query_res.hits"
   ]
  },
  {
   "cell_type": "code",
   "execution_count": 26,
   "id": "e5ec9cd7",
   "metadata": {},
   "outputs": [
    {
     "data": {
      "text/plain": [
       "{'root': {'id': 'toplevel',\n",
       "  'relevance': 1.0,\n",
       "  'fields': {'totalCount': 0},\n",
       "  'errors': [{'code': 4,\n",
       "    'summary': 'Invalid query parameter',\n",
       "    'message': 'Could not create query from YQL: The word of a word item can not be empty',\n",
       "    'stackTrace': 'java.lang.IllegalArgumentException: The word of a word item can not be empty\\n\\tat com.yahoo.protect.Validator.ensureNonEmpty(Validator.java:20)\\n\\tat com.yahoo.prelude.query.WordItem.setWord(WordItem.java:75)\\n\\tat com.yahoo.prelude.query.WordItem.<init>(WordItem.java:62)\\n\\tat com.yahoo.prelude.query.WordItem.<init>(WordItem.java:45)\\n\\tat com.yahoo.search.yql.YqlParser.segment(YqlParser.java:1510)\\n\\tat com.yahoo.search.yql.YqlParser.instantiateWordItem(YqlParser.java:1472)\\n\\tat com.yahoo.search.yql.YqlParser.instantiateWordItem(YqlParser.java:1416)\\n\\tat com.yahoo.search.yql.YqlParser.instantiateWordItem(YqlParser.java:1408)\\n\\tat com.yahoo.search.yql.YqlParser.instantiateLeafItem(YqlParser.java:1276)\\n\\tat com.yahoo.search.yql.YqlParser.buildTermSearch(YqlParser.java:1178)\\n\\tat com.yahoo.search.yql.YqlParser.convertExpression(YqlParser.java:359)\\n\\tat com.yahoo.search.yql.YqlParser.convertVarArgs(YqlParser.java:1153)\\n\\tat com.yahoo.search.yql.YqlParser.buildWeakAnd(YqlParser.java:1142)\\n\\tat com.yahoo.search.yql.YqlParser.buildFunctionCall(YqlParser.java:404)\\n\\tat com.yahoo.search.yql.YqlParser.convertExpression(YqlParser.java:363)\\n\\tat com.yahoo.search.yql.YqlParser.convertVarArgs(YqlParser.java:1153)\\n\\tat com.yahoo.search.yql.YqlParser.buildOr(YqlParser.java:1128)\\n\\tat com.yahoo.search.yql.YqlParser.convertExpression(YqlParser.java:347)\\n\\tat com.yahoo.search.yql.YqlParser.buildTree(YqlParser.java:295)\\n\\tat com.yahoo.search.yql.YqlParser.parse(YqlParser.java:274)\\n\\tat com.yahoo.search.yql.MinimalQueryInserter.insertQuery(MinimalQueryInserter.java:95)\\n\\tat com.yahoo.search.yql.MinimalQueryInserter.search(MinimalQueryInserter.java:80)\\n\\tat com.yahoo.search.Searcher.process(Searcher.java:134)\\n\\tat com.yahoo.processing.execution.Execution.process(Execution.java:112)\\n\\tat com.yahoo.search.searchchain.Execution.search(Execution.java:499)\\n\\tat com.yahoo.prelude.searcher.FieldCollapsingSearcher.search(FieldCollapsingSearcher.java:101)\\n\\tat com.yahoo.search.Searcher.process(Searcher.java:134)\\n\\tat com.yahoo.processing.execution.Execution.process(Execution.java:112)\\n\\tat com.yahoo.search.searchchain.Execution.search(Execution.java:499)\\n\\tat com.yahoo.prelude.querytransform.PhrasingSearcher.search(PhrasingSearcher.java:60)\\n\\tat com.yahoo.search.Searcher.process(Searcher.java:134)\\n\\tat com.yahoo.processing.execution.Execution.process(Execution.java:112)\\n\\tat com.yahoo.search.searchchain.Execution.search(Execution.java:499)\\n\\tat com.yahoo.prelude.statistics.StatisticsSearcher.search(StatisticsSearcher.java:228)\\n\\tat com.yahoo.search.Searcher.process(Searcher.java:134)\\n\\tat com.yahoo.processing.execution.Execution.process(Execution.java:112)\\n\\tat com.yahoo.search.searchchain.Execution.search(Execution.java:499)\\n\\tat com.yahoo.search.querytransform.WeakAndReplacementSearcher.search(WeakAndReplacementSearcher.java:26)\\n\\tat com.yahoo.search.Searcher.process(Searcher.java:134)\\n\\tat com.yahoo.processing.execution.Execution.process(Execution.java:112)\\n\\tat com.yahoo.search.searchchain.Execution.search(Execution.java:499)\\n\\tat com.yahoo.search.handler.SearchHandler.searchAndFill(SearchHandler.java:326)\\n\\tat com.yahoo.search.handler.SearchHandler.search(SearchHandler.java:371)\\n\\tat com.yahoo.search.handler.SearchHandler.handleBody(SearchHandler.java:245)\\n\\tat com.yahoo.search.handler.SearchHandler.handle(SearchHandler.java:157)\\n\\tat com.yahoo.container.jdisc.ThreadedHttpRequestHandler.handle(ThreadedHttpRequestHandler.java:76)\\n\\tat com.yahoo.container.jdisc.ThreadedHttpRequestHandler.handleRequest(ThreadedHttpRequestHandler.java:87)\\n\\tat com.yahoo.container.jdisc.ThreadedRequestHandler$RequestTask.processRequest(ThreadedRequestHandler.java:191)\\n\\tat com.yahoo.container.jdisc.ThreadedRequestHandler$RequestTask.run(ThreadedRequestHandler.java:185)\\n\\tat java.base/java.util.concurrent.ThreadPoolExecutor.runWorker(ThreadPoolExecutor.java:1136)\\n\\tat java.base/java.util.concurrent.ThreadPoolExecutor$Worker.run(ThreadPoolExecutor.java:635)\\n\\tat java.base/java.lang.Thread.run(Thread.java:833)\\n'}]}}"
      ]
     },
     "execution_count": 26,
     "metadata": {},
     "output_type": "execute_result"
    }
   ],
   "source": [
    "query_res.json"
   ]
  },
  {
   "cell_type": "code",
   "execution_count": 27,
   "id": "b98b017a",
   "metadata": {},
   "outputs": [],
   "source": [
    "query_str = docs[1:2].content.to_string()[8:]"
   ]
  },
  {
   "cell_type": "code",
   "execution_count": 28,
   "id": "acf97c73",
   "metadata": {},
   "outputs": [],
   "source": [
    "query_res = app.query(query=query_str, query_model=query_model, debug_request=False)"
   ]
  },
  {
   "cell_type": "code",
   "execution_count": 29,
   "id": "c825105c",
   "metadata": {},
   "outputs": [
    {
     "data": {
      "text/plain": [
       "[]"
      ]
     },
     "execution_count": 29,
     "metadata": {},
     "output_type": "execute_result"
    }
   ],
   "source": [
    "query_res.hits"
   ]
  },
  {
   "cell_type": "code",
   "execution_count": 30,
   "id": "ba39f99e",
   "metadata": {},
   "outputs": [
    {
     "data": {
      "text/plain": [
       "{'root': {'id': 'toplevel',\n",
       "  'relevance': 1.0,\n",
       "  'fields': {'totalCount': 0},\n",
       "  'errors': [{'code': 4,\n",
       "    'summary': 'Invalid query parameter',\n",
       "    'message': 'Could not create query from YQL: The word of a word item can not be empty',\n",
       "    'stackTrace': 'java.lang.IllegalArgumentException: The word of a word item can not be empty\\n\\tat com.yahoo.protect.Validator.ensureNonEmpty(Validator.java:20)\\n\\tat com.yahoo.prelude.query.WordItem.setWord(WordItem.java:75)\\n\\tat com.yahoo.prelude.query.WordItem.<init>(WordItem.java:62)\\n\\tat com.yahoo.prelude.query.WordItem.<init>(WordItem.java:45)\\n\\tat com.yahoo.search.yql.YqlParser.segment(YqlParser.java:1510)\\n\\tat com.yahoo.search.yql.YqlParser.instantiateWordItem(YqlParser.java:1472)\\n\\tat com.yahoo.search.yql.YqlParser.instantiateWordItem(YqlParser.java:1416)\\n\\tat com.yahoo.search.yql.YqlParser.instantiateWordItem(YqlParser.java:1408)\\n\\tat com.yahoo.search.yql.YqlParser.instantiateLeafItem(YqlParser.java:1276)\\n\\tat com.yahoo.search.yql.YqlParser.buildTermSearch(YqlParser.java:1178)\\n\\tat com.yahoo.search.yql.YqlParser.convertExpression(YqlParser.java:359)\\n\\tat com.yahoo.search.yql.YqlParser.convertVarArgs(YqlParser.java:1153)\\n\\tat com.yahoo.search.yql.YqlParser.buildWeakAnd(YqlParser.java:1142)\\n\\tat com.yahoo.search.yql.YqlParser.buildFunctionCall(YqlParser.java:404)\\n\\tat com.yahoo.search.yql.YqlParser.convertExpression(YqlParser.java:363)\\n\\tat com.yahoo.search.yql.YqlParser.convertVarArgs(YqlParser.java:1153)\\n\\tat com.yahoo.search.yql.YqlParser.buildOr(YqlParser.java:1128)\\n\\tat com.yahoo.search.yql.YqlParser.convertExpression(YqlParser.java:347)\\n\\tat com.yahoo.search.yql.YqlParser.buildTree(YqlParser.java:295)\\n\\tat com.yahoo.search.yql.YqlParser.parse(YqlParser.java:274)\\n\\tat com.yahoo.search.yql.MinimalQueryInserter.insertQuery(MinimalQueryInserter.java:95)\\n\\tat com.yahoo.search.yql.MinimalQueryInserter.search(MinimalQueryInserter.java:80)\\n\\tat com.yahoo.search.Searcher.process(Searcher.java:134)\\n\\tat com.yahoo.processing.execution.Execution.process(Execution.java:112)\\n\\tat com.yahoo.search.searchchain.Execution.search(Execution.java:499)\\n\\tat com.yahoo.prelude.searcher.FieldCollapsingSearcher.search(FieldCollapsingSearcher.java:101)\\n\\tat com.yahoo.search.Searcher.process(Searcher.java:134)\\n\\tat com.yahoo.processing.execution.Execution.process(Execution.java:112)\\n\\tat com.yahoo.search.searchchain.Execution.search(Execution.java:499)\\n\\tat com.yahoo.prelude.querytransform.PhrasingSearcher.search(PhrasingSearcher.java:60)\\n\\tat com.yahoo.search.Searcher.process(Searcher.java:134)\\n\\tat com.yahoo.processing.execution.Execution.process(Execution.java:112)\\n\\tat com.yahoo.search.searchchain.Execution.search(Execution.java:499)\\n\\tat com.yahoo.prelude.statistics.StatisticsSearcher.search(StatisticsSearcher.java:228)\\n\\tat com.yahoo.search.Searcher.process(Searcher.java:134)\\n\\tat com.yahoo.processing.execution.Execution.process(Execution.java:112)\\n\\tat com.yahoo.search.searchchain.Execution.search(Execution.java:499)\\n\\tat com.yahoo.search.querytransform.WeakAndReplacementSearcher.search(WeakAndReplacementSearcher.java:26)\\n\\tat com.yahoo.search.Searcher.process(Searcher.java:134)\\n\\tat com.yahoo.processing.execution.Execution.process(Execution.java:112)\\n\\tat com.yahoo.search.searchchain.Execution.search(Execution.java:499)\\n\\tat com.yahoo.search.handler.SearchHandler.searchAndFill(SearchHandler.java:326)\\n\\tat com.yahoo.search.handler.SearchHandler.search(SearchHandler.java:371)\\n\\tat com.yahoo.search.handler.SearchHandler.handleBody(SearchHandler.java:245)\\n\\tat com.yahoo.search.handler.SearchHandler.handle(SearchHandler.java:157)\\n\\tat com.yahoo.container.jdisc.ThreadedHttpRequestHandler.handle(ThreadedHttpRequestHandler.java:76)\\n\\tat com.yahoo.container.jdisc.ThreadedHttpRequestHandler.handleRequest(ThreadedHttpRequestHandler.java:87)\\n\\tat com.yahoo.container.jdisc.ThreadedRequestHandler$RequestTask.processRequest(ThreadedRequestHandler.java:191)\\n\\tat com.yahoo.container.jdisc.ThreadedRequestHandler$RequestTask.run(ThreadedRequestHandler.java:185)\\n\\tat java.base/java.util.concurrent.ThreadPoolExecutor.runWorker(ThreadPoolExecutor.java:1136)\\n\\tat java.base/java.util.concurrent.ThreadPoolExecutor$Worker.run(ThreadPoolExecutor.java:635)\\n\\tat java.base/java.lang.Thread.run(Thread.java:833)\\n'}]}}"
      ]
     },
     "execution_count": 30,
     "metadata": {},
     "output_type": "execute_result"
    }
   ],
   "source": [
    "query_res.json"
   ]
  },
  {
   "cell_type": "code",
   "execution_count": null,
   "id": "f8ab4c3b",
   "metadata": {},
   "outputs": [],
   "source": []
  }
 ],
 "metadata": {
  "kernelspec": {
   "display_name": "Python 3 (ipykernel)",
   "language": "python",
   "name": "python3"
  },
  "language_info": {
   "codemirror_mode": {
    "name": "ipython",
    "version": 3
   },
   "file_extension": ".py",
   "mimetype": "text/x-python",
   "name": "python",
   "nbconvert_exporter": "python",
   "pygments_lexer": "ipython3",
   "version": "3.9.7"
  }
 },
 "nbformat": 4,
 "nbformat_minor": 5
}
